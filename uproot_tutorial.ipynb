{
 "cells": [
  {
   "cell_type": "markdown",
   "metadata": {},
   "source": [
    "# `uproot` and `JaggedArray`\n",
    "\n",
    "\n",
    "Here we demonstrate basic usage of [`uproot`](https://github.com/scikit-hep/uproot) and `JaggedArrays` from [`awkward-array`](https://github.com/scikit-hep/awkward-array). We will read in a [ROOT](https://root.cern.ch) file generated with [`pythia`](http://home.thep.lu.se/Pythia/). \n",
    "\n",
    "The `JaggedArray` is a representation of event-by-event lists of some variable (pt, eta, phi, m, etc.). The data format for `numpy` expects these to be fixed-length, so `JaggedArray` stores it as fixed-length under the hood, but then has an interface to make it look like it is event-by-event. "
   ]
  },
  {
   "cell_type": "code",
   "execution_count": 10,
   "metadata": {},
   "outputs": [],
   "source": [
    "import uproot\n",
    "import matplotlib.pyplot as plt\n",
    "import numpy as np\n"
   ]
  },
  {
   "cell_type": "markdown",
   "metadata": {},
   "source": [
    "## Read in\n",
    "\n",
    "Here, we read in the ROOT file with uproot. This will convert the `ROOT` data branches into `JaggedArrays`. We can read whichever branches we want. "
   ]
  },
  {
   "cell_type": "code",
   "execution_count": 2,
   "metadata": {},
   "outputs": [],
   "source": [
    "T = uproot.open(\"zjets_pt170.root\")[\"T\"]\n",
    "ja = T.arrays(['gen_pt', 'gen_eta', 'gen_phi', 'gen_m', 'gen_id', 'gen_status'])\n",
    "\n"
   ]
  },
  {
   "cell_type": "markdown",
   "metadata": {},
   "source": [
    "## Flatten for plotting\n",
    "\n",
    "The `flatten` method will take the irregularly shaped arrays from the `JaggedArray` for this specific variable, and flatten it all into one single 1-d list. "
   ]
  },
  {
   "cell_type": "code",
   "execution_count": 6,
   "metadata": {},
   "outputs": [],
   "source": [
    "gen_pt = ja['gen_pt'].flatten()"
   ]
  },
  {
   "cell_type": "markdown",
   "metadata": {},
   "source": [
    "## Plot\n",
    "\n",
    "Now we make a histogram with specific bins in the x direction. We create the histogram, set the y-scale to be a logarithmic axis, and have the histogram represent the density (content / binwidth / total_normalization). "
   ]
  },
  {
   "cell_type": "code",
   "execution_count": 19,
   "metadata": {},
   "outputs": [
    {
     "data": {
      "image/png": "[encoded data removed]",
      "text/plain": [
       "<matplotlib.figure.Figure at 0x113d92850>"
      ]
     },
     "metadata": {},
     "output_type": "display_data"
    }
   ],
   "source": [
    "xbins = [0, 10, 20, 30, 40, 50, 60, 70, 80, 90, 100, 200, 300, 400, 500, 1000]\n",
    "plt.hist(x=gen_pt, bins=xbins, log=True, density=True)\n",
    "plt.show()"
   ]
  },
  {
   "cell_type": "code",
   "execution_count": null,
   "metadata": {},
   "outputs": [],
   "source": []
  }
 ],
 "metadata": {
  "kernelspec": {
   "display_name": "Python 2",
   "language": "python",
   "name": "python2"
  },
  "language_info": {
   "codemirror_mode": {
    "name": "ipython",
    "version": 2
   },
   "file_extension": ".py",
   "mimetype": "text/x-python",
   "name": "python",
   "nbconvert_exporter": "python",
   "pygments_lexer": "ipython2",
   "version": "2.7.15"
  }
 },
 "nbformat": 4,
 "nbformat_minor": 2
}
